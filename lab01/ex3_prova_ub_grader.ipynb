{
 "cells": [
  {
   "cell_type": "markdown",
   "metadata": {
    "tags": []
   },
   "source": [
    "<div style=\"padding:30px; color: white; background-color: #0071CD\">\n",
    "<center>\n",
    "<img src=\"img/logoub.jpeg\"></img>\n",
    "<center>\n",
    "<h1>Algorísmica Avançada</h1>\n",
    "<h2>Pràctica 1 - Exploració: Grafs, DFS, BFS, Dijkstra</h2>\n",
    "</center>\n",
    "</div>"
   ]
  },
  {
   "cell_type": "code",
   "execution_count": null,
   "metadata": {},
   "outputs": [
    {
     "data": {
      "text/html": [
       "<style>.container { width:100% !important; }</style>"
      ],
      "text/plain": [
       "<IPython.core.display.HTML object>"
      ]
     },
     "metadata": {},
     "output_type": "display_data"
    }
   ],
   "source": [
    "from IPython.display import display, HTML\n",
    "display(HTML(\"<style>.container { width:100% !important; }</style>\"))"
   ]
  },
  {
   "cell_type": "markdown",
   "metadata": {},
   "source": [
    "<div class=\"alert alert-info\">\n",
    "<h2>Avís general per a les Pràctiques de Laboratori</h2>\n",
    "\n",
    "És molt important <b>comentar tot el vostre codi</b>. Comentar el codi no només facilita a altres persones que el llegeixin la compressió del que esteu fent, sinó també a vosaltres mateixos durant el procés de disseny i implementació. D'aquesta forma podreu entendre el vostre propi codi encara que faci molt temps que no el consulteu. A més, a l'hora de ser corregits, un codi comentat s'entén molt millor, la qual cosa ajuda a traslladar al professor les idees que teníeu a l'intentar implementar-lo i encara més en el cas que no ho hagueu pogut acabar-ho amb èxit. No cal comentar cada línia, però si el que fa cada part.\n",
    "\n",
    "En segon lloc, és molt important <b>respectar les capçaleres de les funcions i estructura de la funció ```return```</b> que s'indiquin a l'enunciat. Tot i que llegim i corregim els vostres codis en detall, fem servir correctors automàtics per guiar i agilitzar el procés i saber quines solucións funcionen i quines no ja d'entrada. \n",
    "\n",
    "Axí doncs, si es demana que la funció tingui la següent estructura: \n",
    "\n",
    "```python\n",
    "def exercici1(param1, param2):\n",
    "    # implementació de la solució\n",
    "    return resultat \n",
    "```\n",
    "\n",
    "És important que en el notebook existeixi aquesta funció i que no canvieu el nom dels paràmetres ni el tipus de dada retornada.\n",
    "    \n",
    "</div>\n",
    "\n",
    "\n"
   ]
  },
  {
   "cell_type": "code",
   "execution_count": null,
   "metadata": {},
   "outputs": [
    {
     "ename": "ModuleNotFoundError",
     "evalue": "No module named 'maze'",
     "output_type": "error",
     "traceback": [
      "\u001b[1;31m---------------------------------------------------------------------------\u001b[0m",
      "\u001b[1;31mModuleNotFoundError\u001b[0m                       Traceback (most recent call last)",
      "Cell \u001b[1;32mIn[2], line 3\u001b[0m\n\u001b[0;32m      1\u001b[0m \u001b[38;5;28;01mfrom\u001b[39;00m\u001b[38;5;250m \u001b[39m\u001b[38;5;21;01mmatplotlib\u001b[39;00m\u001b[38;5;250m \u001b[39m\u001b[38;5;28;01mimport\u001b[39;00m pyplot \u001b[38;5;28;01mas\u001b[39;00m plt\n\u001b[0;32m      2\u001b[0m \u001b[38;5;28;01mimport\u001b[39;00m\u001b[38;5;250m \u001b[39m\u001b[38;5;21;01mnetworkx\u001b[39;00m\u001b[38;5;250m \u001b[39m\u001b[38;5;28;01mas\u001b[39;00m\u001b[38;5;250m \u001b[39m\u001b[38;5;21;01mnx\u001b[39;00m\n\u001b[1;32m----> 3\u001b[0m \u001b[38;5;28;01mfrom\u001b[39;00m\u001b[38;5;250m \u001b[39m\u001b[38;5;21;01mmaze\u001b[39;00m\u001b[38;5;250m \u001b[39m\u001b[38;5;28;01mimport\u001b[39;00m \u001b[38;5;241m*\u001b[39m\n",
      "\u001b[1;31mModuleNotFoundError\u001b[0m: No module named 'maze'"
     ]
    }
   ],
   "source": [
    "from matplotlib import pyplot as plt\n",
    "import networkx as nx\n",
    "from maze import *"
   ]
  },
  {
   "cell_type": "markdown",
   "metadata": {},
   "source": [
    "<div class=\"alert alert-success\">\n",
    "<h1>Problema 3: Checkpoint (2,5p)</h1>\n",
    "<p>\n",
    "    Implementeu una funció anomenada <b>checkpoint()</b> que, donat un graf, un node origen, un node destí i un node extra, trobi el camí més curt des del node origen fins el node destí passant pel node extra. Com en l'exercici anterior, tindrem un diccionari de punts on aplicarem una penalització.<br>\n",
    "</p>    \n",
    "    \n",
    "</div>"
   ]
  },
  {
   "cell_type": "code",
   "execution_count": null,
   "metadata": {},
   "outputs": [],
   "source": [
    "def checkpoint(G, origin, destination, extra, holes_dct={}):\n",
    "    \"\"\"\n",
    "    Params\n",
    "    ======\n",
    "    :G: Graf del qual en volem extreure el camí mínim. Ha de ser un objecte de la classe nx.Graph\n",
    "    :origin: Índex del node orígen\n",
    "    :destination: Índex del node destí\n",
    "    :extra: Índex d'un node extra per on ha de passar el camí\n",
    "    :holes_dct: Un diccionari del tipus {node: penalització}. Passar per cada node del diccionari té un cost diferent a 1.\n",
    "    \n",
    "    Returns\n",
    "    =======\n",
    "    :path: Una llista de nodes del camí més curt entre els nodes 'origin' i 'destination' que passa per 'extra'.\n",
    "    :cost: Un enter amb el cost de recórrer el camí, incloent-hi les penalitzacions.\n",
    "    \"\"\"\n",
    "    path = []\n",
    "    cost = 0\n",
    "    \n",
    "    return path, cost"
   ]
  },
  {
   "cell_type": "markdown",
   "metadata": {},
   "source": [
    "<div class=\"alert alert-info\">\n",
    "<center>\n",
    "  <h1>Entrega</h1>\n",
    "</center>\n",
    "\n",
    "L'entrega de la prova de pràctica es farà amb el mòdul de <b>ub-grader</b>. Per instal·lar-lo feu servir la següent comanda a terminal:\n",
    "\n",
    "```\n",
    "python pip install ub-grader --upgrade\n",
    "```\n",
    "\n",
    "O una cel·la del notebook amb:\n",
    "\n",
    "```\n",
    "!pip install ub-grader --upgrade\n",
    "```\n",
    "<br>\n",
    "\n",
    "Després, a la cel·la següent canvieu els niubs i noms pels vostres. Executeu-la per generar el vostre report del problema. En aquest cas mostrem quins són els inputs de la funció als tests, però això no passarà al dia del examen. Finalment, el report es generarà al directori d'aquest notebook amb nom ```report_Membre1_Membre2_ex3.enc```, pugeu aquest fitxer al campus virtual una vegada acabada la prova.\n",
    "\n",
    "És imprescindible que respecteu el format de les funcions i que el vostre codi estigui degudament comentat.<br><br>\n",
    "\n",
    "</div>"
   ]
  },
  {
   "cell_type": "code",
   "execution_count": null,
   "metadata": {},
   "outputs": [
    {
     "ename": "NameError",
     "evalue": "name 'Maze' is not defined",
     "output_type": "error",
     "traceback": [
      "\u001b[1;31m---------------------------------------------------------------------------\u001b[0m",
      "\u001b[1;31mNameError\u001b[0m                                 Traceback (most recent call last)",
      "Cell \u001b[1;32mIn[3], line 22\u001b[0m\n\u001b[0;32m     14\u001b[0m init_students([\n\u001b[0;32m     15\u001b[0m     {\u001b[38;5;124m\"\u001b[39m\u001b[38;5;124mniub\u001b[39m\u001b[38;5;124m\"\u001b[39m: \u001b[38;5;124m\"\u001b[39m\u001b[38;5;124mniubMEMBRE1\u001b[39m\u001b[38;5;124m\"\u001b[39m, \u001b[38;5;124m\"\u001b[39m\u001b[38;5;124mnombre\u001b[39m\u001b[38;5;124m\"\u001b[39m: \u001b[38;5;124m\"\u001b[39m\u001b[38;5;124mNOM_MEMBRE1\u001b[39m\u001b[38;5;124m\"\u001b[39m, \u001b[38;5;124m\"\u001b[39m\u001b[38;5;124mapellidos\u001b[39m\u001b[38;5;124m\"\u001b[39m: \u001b[38;5;124m\"\u001b[39m\u001b[38;5;124mCOGNOM_MEMBRE1\u001b[39m\u001b[38;5;124m\"\u001b[39m},\n\u001b[0;32m     16\u001b[0m     {\u001b[38;5;124m\"\u001b[39m\u001b[38;5;124mniub\u001b[39m\u001b[38;5;124m\"\u001b[39m: \u001b[38;5;124m\"\u001b[39m\u001b[38;5;124mniubMEMBRE2\u001b[39m\u001b[38;5;124m\"\u001b[39m, \u001b[38;5;124m\"\u001b[39m\u001b[38;5;124mnombre\u001b[39m\u001b[38;5;124m\"\u001b[39m: \u001b[38;5;124m\"\u001b[39m\u001b[38;5;124mNOM_MEMBRE2\u001b[39m\u001b[38;5;124m\"\u001b[39m, \u001b[38;5;124m\"\u001b[39m\u001b[38;5;124mapellidos\u001b[39m\u001b[38;5;124m\"\u001b[39m: \u001b[38;5;124m\"\u001b[39m\u001b[38;5;124mCOGNOM_MEMBRE2\u001b[39m\u001b[38;5;124m\"\u001b[39m}\n\u001b[0;32m     17\u001b[0m ])\n\u001b[0;32m     20\u001b[0m load_spec(\u001b[38;5;124mr\u001b[39m\u001b[38;5;124m\"\u001b[39m\u001b[38;5;124mfile:///./specs/ex3.json\u001b[39m\u001b[38;5;124m\"\u001b[39m)\n\u001b[1;32m---> 22\u001b[0m result \u001b[38;5;241m=\u001b[39m grade(\n\u001b[0;32m     23\u001b[0m     wrapper_ex3,\n\u001b[0;32m     24\u001b[0m     signing_key_path\u001b[38;5;241m=\u001b[39m\u001b[38;5;28;01mNone\u001b[39;00m,  \u001b[38;5;66;03m# Path to Ed25519 private key if signing\u001b[39;00m\n\u001b[0;32m     25\u001b[0m )\n",
      "File \u001b[1;32m~\\anaconda3\\Lib\\site-packages\\ub_grader\\grader.py:192\u001b[0m, in \u001b[0;36mgrade\u001b[1;34m(func, students_id, public_key_path, signing_key_path, output_path)\u001b[0m\n\u001b[0;32m    190\u001b[0m test_results: \u001b[38;5;28mlist\u001b[39m[TestResultDict] \u001b[38;5;241m=\u001b[39m []\n\u001b[0;32m    191\u001b[0m \u001b[38;5;28;01mfor\u001b[39;00m t \u001b[38;5;129;01min\u001b[39;00m spec\u001b[38;5;241m.\u001b[39mtests:\n\u001b[1;32m--> 192\u001b[0m     test_results\u001b[38;5;241m.\u001b[39mappend(_run_single(func, t))\n\u001b[0;32m    194\u001b[0m scoring \u001b[38;5;241m=\u001b[39m _score(spec, test_results)\n\u001b[0;32m    196\u001b[0m report_payload \u001b[38;5;241m=\u001b[39m {\n\u001b[0;32m    197\u001b[0m     \u001b[38;5;124m\"\u001b[39m\u001b[38;5;124mstudent\u001b[39m\u001b[38;5;124m\"\u001b[39m: [student\u001b[38;5;241m.\u001b[39mto_public() \u001b[38;5;28;01mfor\u001b[39;00m student \u001b[38;5;129;01min\u001b[39;00m students],\n\u001b[0;32m    198\u001b[0m     \u001b[38;5;124m\"\u001b[39m\u001b[38;5;124massignment_id\u001b[39m\u001b[38;5;124m\"\u001b[39m: spec\u001b[38;5;241m.\u001b[39massignment_id,\n\u001b[1;32m   (...)\u001b[0m\n\u001b[0;32m    202\u001b[0m     \u001b[38;5;124m\"\u001b[39m\u001b[38;5;124mintegrity\u001b[39m\u001b[38;5;124m\"\u001b[39m: spec\u001b[38;5;241m.\u001b[39mintegrity,\n\u001b[0;32m    203\u001b[0m }\n",
      "File \u001b[1;32m~\\anaconda3\\Lib\\site-packages\\ub_grader\\grader.py:71\u001b[0m, in \u001b[0;36m_run_single\u001b[1;34m(func, spec)\u001b[0m\n\u001b[0;32m     69\u001b[0m got \u001b[38;5;241m=\u001b[39m \u001b[38;5;28;01mNone\u001b[39;00m\n\u001b[0;32m     70\u001b[0m \u001b[38;5;28;01mtry\u001b[39;00m:\n\u001b[1;32m---> 71\u001b[0m     got \u001b[38;5;241m=\u001b[39m func(\u001b[38;5;241m*\u001b[39mspec\u001b[38;5;241m.\u001b[39minput_args, \u001b[38;5;241m*\u001b[39m\u001b[38;5;241m*\u001b[39mspec\u001b[38;5;241m.\u001b[39minput_kwargs)\n\u001b[0;32m     72\u001b[0m     passed \u001b[38;5;241m=\u001b[39m _compare(spec\u001b[38;5;241m.\u001b[39mexpected, got, spec\u001b[38;5;241m.\u001b[39mcomparison)\n\u001b[0;32m     73\u001b[0m \u001b[38;5;28;01mexcept\u001b[39;00m (\u001b[38;5;167;01mAssertionError\u001b[39;00m, \u001b[38;5;167;01mValueError\u001b[39;00m, \u001b[38;5;167;01mTypeError\u001b[39;00m, \u001b[38;5;167;01mRuntimeError\u001b[39;00m) \u001b[38;5;28;01mas\u001b[39;00m err:\n",
      "Cell \u001b[1;32mIn[3], line 6\u001b[0m, in \u001b[0;36mwrapper_ex3\u001b[1;34m(n, m, seed, A, B, E, H)\u001b[0m\n\u001b[0;32m      4\u001b[0m \u001b[38;5;28;01mdef\u001b[39;00m\u001b[38;5;250m \u001b[39m\u001b[38;5;21mwrapper_ex3\u001b[39m(n,m,seed,A,B,E,H):\n\u001b[0;32m      5\u001b[0m     H \u001b[38;5;241m=\u001b[39m {\u001b[38;5;28mint\u001b[39m(k) : v \u001b[38;5;28;01mfor\u001b[39;00m k, v \u001b[38;5;129;01min\u001b[39;00m H\u001b[38;5;241m.\u001b[39mitems()}\n\u001b[1;32m----> 6\u001b[0m     maze \u001b[38;5;241m=\u001b[39m Maze(n, m, seed\u001b[38;5;241m=\u001b[39mseed)\n\u001b[0;32m      7\u001b[0m     G \u001b[38;5;241m=\u001b[39m maze\u001b[38;5;241m.\u001b[39mmaze_graph()\n\u001b[0;32m      8\u001b[0m     path, cost \u001b[38;5;241m=\u001b[39m checkpoint(G, A, B, E, H)\n",
      "\u001b[1;31mNameError\u001b[0m: name 'Maze' is not defined"
     ]
    }
   ],
   "source": [
    "from ub_grader import init_students, load_spec, grade\n",
    "\n",
    "# Funció wrapper pel exercici\n",
    "def wrapper_ex3(n,m,seed,A,B,E,H):\n",
    "    H = {int(k) : v for k, v in H.items()}\n",
    "    maze = Maze(n, m, seed=seed)\n",
    "    G = maze.maze_graph()\n",
    "    path, cost = checkpoint(G, A, B, E, H)\n",
    "    return {\n",
    "        \"cost\" : cost,\n",
    "        \"path\" : path\n",
    "    }\n",
    "\n",
    "init_students([\n",
    "    {\"niub\": \"niubMEMBRE1\", \"nombre\": \"NOM_MEMBRE1\", \"apellidos\": \"COGNOM_MEMBRE1\"},\n",
    "    {\"niub\": \"niubMEMBRE2\", \"nombre\": \"NOM_MEMBRE2\", \"apellidos\": \"COGNOM_MEMBRE2\"}\n",
    "])\n",
    "\n",
    "\n",
    "load_spec(r\"file:///./specs/ex3.json\")\n",
    "\n",
    "result = grade(\n",
    "    wrapper_ex3,\n",
    "    signing_key_path=None,  # Path to Ed25519 private key if signing\n",
    ")"
   ]
  },
  {
   "cell_type": "code",
   "execution_count": null,
   "metadata": {},
   "outputs": [],
   "source": []
  },
  {
   "cell_type": "code",
   "execution_count": null,
   "metadata": {},
   "outputs": [],
   "source": []
  }
 ],
 "metadata": {
  "kernelspec": {
   "display_name": "Python 3 (ipykernel)",
   "language": "python",
   "name": "python3"
  },
  "language_info": {
   "codemirror_mode": {
    "name": "ipython",
    "version": 3
   },
   "file_extension": ".py",
   "mimetype": "text/x-python",
   "name": "python",
   "nbconvert_exporter": "python",
   "pygments_lexer": "ipython3",
   "version": "3.13.5"
  }
 },
 "nbformat": 4,
 "nbformat_minor": 4
}
