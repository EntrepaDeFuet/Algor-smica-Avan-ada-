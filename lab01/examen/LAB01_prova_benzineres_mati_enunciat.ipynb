{
 "cells": [
  {
   "cell_type": "markdown",
   "metadata": {},
   "source": [
    "<div style=\"padding:30px; color: white; background-color: #0071CD\">\n",
    "<center>\n",
    "<img src=\"img/logoub.jpeg\"></img>\n",
    "<center>\n",
    "<h1>Algorísmica Avançada</h1>\n",
    "<h2>Prova Pràctica 1 - Exploració: Grafs, DFS, BFS, Dijkstra</h2>\n",
    "</center>\n",
    "</div>"
   ]
  },
  {
   "cell_type": "code",
   "execution_count": 151,
   "metadata": {},
   "outputs": [
    {
     "data": {
      "text/html": [
       "<style>.container { width:100% !important; }</style>"
      ],
      "text/plain": [
       "<IPython.core.display.HTML object>"
      ]
     },
     "metadata": {},
     "output_type": "display_data"
    }
   ],
   "source": [
    "from IPython.display import display, HTML\n",
    "display(HTML(\"<style>.container { width:100% !important; }</style>\"))"
   ]
  },
  {
   "cell_type": "markdown",
   "metadata": {},
   "source": [
    "<div class=\"alert alert-info\">\n",
    "<h2>Avís general per a les Pràctiques de Laboratori</h2>\n",
    "\n",
    "És molt important <b>comentar tot el vostre codi</b>. Comentar el codi no només facilita a altres persones que el llegeixin la compressió del que esteu fent, sinó també a vosaltres mateixos durant el procés de disseny i implementació. D'aquesta forma podreu entendre el vostre propi codi encara que faci molt temps que no el consulteu. A més, a l'hora de ser corregits, un codi comentat s'entén molt millor, la qual cosa ajuda a traslladar al professor les idees que teníeu a l'intentar implementar-lo i encara més en el cas que no ho hagueu pogut acabar-ho amb èxit. No cal comentar cada línia, però si el que fa cada part.\n",
    "\n",
    "En segon lloc, és molt important <b>respectar les capçaleres de les funcions i estructura de la funció ```return```</b> que s'indiquin a l'enunciat. Tot i que llegim i corregim els vostres codis en detall, fem servir correctors automàtics per guiar i agilitzar el procés i saber quines solucións funcionen i quines no ja d'entrada. \n",
    "\n",
    "Axí doncs, si es demana que la funció tingui la següent estructura: \n",
    "\n",
    "```python\n",
    "def exercici1(param1, param2):\n",
    "    # implementació de la solució\n",
    "    return resultat \n",
    "```\n",
    "\n",
    "És important que en el notebook existeixi aquesta funció i que no canvieu el nom dels paràmetres ni el tipus de dada retornada.\n",
    "    \n",
    "</div>\n",
    "\n",
    "\n"
   ]
  },
  {
   "cell_type": "markdown",
   "metadata": {},
   "source": [
    "<div class=\"alert alert-success\">\n",
    "<h1>Problema: Benzineres (5p)</h1>\n",
    "<p>\n",
    "    Donat un cotxe amb un dipòsit de $D$ litres, volem recórrer un laberint des de $S$(tart) fins a $E$(nd). A cada pas dins del laberint es consumeix 1 litre del dipòsit, i si el dipòsit es buida, ja no podrem avançar més. A més, aquest laberint conté $B$ benzineres, que en arribar a una benzinera omplim completament el dipòsit. Implementeu un algorisme basat en les vostres implementacions de la pràctica 1 que retorni True si podem arribar a $E$ des de $S$, i False en cas contrari; a més feu que retorni els nodes visitats en una llista o set.<br>\n",
    "La signatura de la funció és \n",
    "\n",
    "```python\n",
    "def solve_maze_gas(G, B, D, start, end):\n",
    "    # implementació de la solució\n",
    "    return valor, nodes \n",
    "```\n",
    "\n",
    "    \n",
    "La funció <b>solve_maze_gas(G, B, D, start, end)</b> té com entrada:\n",
    "<ul>\n",
    "    <li><b>G</b> el graf no dirigit del laberint.</li>\n",
    "    <li><b>B</b> un diccionari on les claus són els nodes que són benzineres i el valor és un boolean True si ha estat feta servir, i un False en cas contrari.</li>\n",
    "    <li><b>D</b> la capacitat del dipòsit.</li>\n",
    "    <li><b>start</b> el node d'inici del recorregut.</li>\n",
    "    <li><b>end</b> el node de destí al qual volem arribar.</li>\n",
    "</ul>\n",
    "i com a sortida: \n",
    "<ul>\n",
    "    <li><b>valor</b> pren valors <i>True</i> o <i>False</i>.</li>\n",
    "    <li><b>nodes</b> llista o set dels nodes visitats.</li>\n",
    "</ul>\n",
    "\n",
    "\n",
    "Recordeu que és necessari <b>no canviar l'estructura de la funció</b>. No canvieu ni el nom de la funció, ni el nom dels paràmetres d'entrada ni els de sortida. Podeu fer servir funcions auxiliars.<br>\n",
    "</p>    \n",
    "    \n",
    "</div>"
   ]
  },
  {
   "cell_type": "code",
   "execution_count": 152,
   "metadata": {},
   "outputs": [],
   "source": [
    "from matplotlib import pyplot as plt\n",
    "import networkx as nx\n",
    "from maze import *\n",
    "from random import randint"
   ]
  },
  {
   "cell_type": "code",
   "execution_count": 153,
   "metadata": {},
   "outputs": [],
   "source": [
    "def create_maze(n, m, B, seed=None):\n",
    "    \"\"\"\n",
    "    Funció per crear laberints de n x m amb B nombre de benzineres aleatories. Retorna el objecte Maze\n",
    "    i la llista de benzineres\n",
    "    \"\"\"\n",
    "    maze = Maze(n, m, seed=seed, p_build=0.1)\n",
    "    # podeu modificar on es posen les benzineres, ara mateix es posen a llocs aleatoris\n",
    "    gas_stations = [randint(1, n*m - 2) for _ in range(B)]\n",
    "    colorS, colorE, colorB = (0, 255, 0), (0, 0, 255), (255, 0, 0)\n",
    "    \n",
    "    maze.set_values([0], 1, colorS) # Node d'inici\n",
    "    maze.set_values([n*m - 1], 1, colorE) # Node de destí\n",
    "    maze.set_values(gas_stations, 1, colorB) # Benzineres\n",
    "    \n",
    "    return maze, gas_stations"
   ]
  },
  {
   "cell_type": "code",
   "execution_count": 154,
   "metadata": {},
   "outputs": [],
   "source": [
    "import heapq\n",
    "# Funció que heu de implementar\n",
    "def solve_maze_gas(G, B, D, start, end):\n",
    "    visited = [] # Set de nodes visitats\n",
    "    val = True # Valor de retorn que defineix si el problema té solució o no\n",
    "    \n",
    "    \n",
    "    # El vostre codi\n",
    "    visitedActual = []\n",
    "    visitedAux = []\n",
    "    cost = 0\n",
    "    benzineresVisited = []\n",
    "    #Fem un diccionari que guarda (nodeActual: nodeAnterior)\n",
    "    diccionariPath = {}\n",
    "\n",
    "    #Creem el heap\n",
    "    h = [(0, start)] \n",
    "    heapq.heapify(h)\n",
    "    val = False\n",
    "    #Iterem el heap com a priority queue igual que amb el BFS amb la queue, fins trobar node destination\n",
    "    while h:\n",
    "        costActual, node = heapq.heappop(h) #Agafem el primer node de la priority queue\n",
    "        #Mirem si el node \n",
    "        if node not in visitedActual:\n",
    "            visitedActual.append(node)\n",
    "            if node == end: #break per sortir\n",
    "                visitedAux += visitedActual\n",
    "                val = True\n",
    "                break\n",
    "            if node in B and node not in benzineresVisited: #Mirem si hem passat per la benzinera\n",
    "                costActual = 0 \n",
    "                benzineresVisited.append(node)\n",
    "                #Fem reset de visited actual , per tal de que es puguin repetir nodes, despres de passar per una benzinera\n",
    "                visitedAux += visitedActual\n",
    "                visitedActual = []\n",
    "            for vei in G.neighbors(node): #Iterem pels veins del node\n",
    "                if vei not in visitedActual:\n",
    "                    if costActual < D: #Si el cost és menor que la distància màxima\n",
    "                        heapq.heappush(h, (costActual+1, vei)) #fiquem el vei al priority queue\n",
    "    visitedAux += visitedActual\n",
    "    for n in visitedAux:\n",
    "        if n not in visited:\n",
    "            visited.append(n)\n",
    "    #visited = visited[1:len(visited)]\n",
    "    \n",
    "    return val, visited"
   ]
  },
  {
   "cell_type": "markdown",
   "metadata": {},
   "source": [
    "<div class=\"alert alert-warning\">\n",
    "<h1>Codi addicional per fer proves</h1>\n",
    "</div>"
   ]
  },
  {
   "cell_type": "markdown",
   "metadata": {},
   "source": [
    "A continuació teniu un codi per fer proves de la crida al vostre codi."
   ]
  },
  {
   "cell_type": "code",
   "execution_count": 155,
   "metadata": {},
   "outputs": [
    {
     "name": "stdout",
     "output_type": "stream",
     "text": [
      "Té solució.\n"
     ]
    },
    {
     "data": {
      "image/svg+xml": [
       "<svg xmlns=\"http://www.w3.org/2000/svg\" xmlns:xlink=\"http://www.w3.org/1999/xlink\" width=\"220\" height=\"220\" viewBox=\"-10 -10 220 220\"><defs>\n",
       "<style type=\"text/css\"><![CDATA[line {    stroke: #000000;\n",
       "    stroke-linecap: square;    stroke-width: 5;\n",
       "}]]></style>\n",
       "</defs><line x1=\"0.0\" y1=\"33.333333333333336\" x2=\"33.333333333333336\" y2=\"33.333333333333336\"/><line x1=\"33.333333333333336\" y1=\"33.333333333333336\" x2=\"33.333333333333336\" y2=\"66.66666666666667\"/><line x1=\"33.333333333333336\" y1=\"66.66666666666667\" x2=\"33.333333333333336\" y2=\"100.0\"/><line x1=\"33.333333333333336\" y1=\"133.33333333333334\" x2=\"33.333333333333336\" y2=\"166.66666666666669\"/><line x1=\"0.0\" y1=\"200.0\" x2=\"33.333333333333336\" y2=\"200.0\"/><line x1=\"66.66666666666667\" y1=\"0.0\" x2=\"66.66666666666667\" y2=\"33.333333333333336\"/><line x1=\"66.66666666666667\" y1=\"66.66666666666667\" x2=\"66.66666666666667\" y2=\"100.0\"/><line x1=\"66.66666666666667\" y1=\"100.0\" x2=\"66.66666666666667\" y2=\"133.33333333333334\"/><line x1=\"66.66666666666667\" y1=\"133.33333333333334\" x2=\"66.66666666666667\" y2=\"166.66666666666669\"/><line x1=\"33.333333333333336\" y1=\"200.0\" x2=\"66.66666666666667\" y2=\"200.0\"/><line x1=\"100.0\" y1=\"33.333333333333336\" x2=\"100.0\" y2=\"66.66666666666667\"/><line x1=\"66.66666666666667\" y1=\"100.0\" x2=\"100.0\" y2=\"100.0\"/><line x1=\"100.0\" y1=\"100.0\" x2=\"100.0\" y2=\"133.33333333333334\"/><line x1=\"66.66666666666667\" y1=\"166.66666666666669\" x2=\"100.0\" y2=\"166.66666666666669\"/><line x1=\"66.66666666666667\" y1=\"200.0\" x2=\"100.0\" y2=\"200.0\"/><line x1=\"100.0\" y1=\"66.66666666666667\" x2=\"133.33333333333334\" y2=\"66.66666666666667\"/><line x1=\"133.33333333333334\" y1=\"66.66666666666667\" x2=\"133.33333333333334\" y2=\"100.0\"/><line x1=\"133.33333333333334\" y1=\"100.0\" x2=\"133.33333333333334\" y2=\"133.33333333333334\"/><line x1=\"133.33333333333334\" y1=\"133.33333333333334\" x2=\"133.33333333333334\" y2=\"166.66666666666669\"/><line x1=\"100.0\" y1=\"200.0\" x2=\"133.33333333333334\" y2=\"200.0\"/><line x1=\"133.33333333333334\" y1=\"33.333333333333336\" x2=\"166.66666666666669\" y2=\"33.333333333333336\"/><line x1=\"133.33333333333334\" y1=\"66.66666666666667\" x2=\"166.66666666666669\" y2=\"66.66666666666667\"/><line x1=\"166.66666666666669\" y1=\"66.66666666666667\" x2=\"166.66666666666669\" y2=\"100.0\"/><line x1=\"166.66666666666669\" y1=\"100.0\" x2=\"166.66666666666669\" y2=\"133.33333333333334\"/><line x1=\"133.33333333333334\" y1=\"166.66666666666669\" x2=\"166.66666666666669\" y2=\"166.66666666666669\"/><line x1=\"133.33333333333334\" y1=\"200.0\" x2=\"166.66666666666669\" y2=\"200.0\"/><line x1=\"166.66666666666669\" y1=\"33.333333333333336\" x2=\"200.0\" y2=\"33.333333333333336\"/><line x1=\"200.0\" y1=\"0.0\" x2=\"200.0\" y2=\"33.333333333333336\"/><line x1=\"200.0\" y1=\"33.333333333333336\" x2=\"200.0\" y2=\"66.66666666666667\"/><line x1=\"200.0\" y1=\"66.66666666666667\" x2=\"200.0\" y2=\"100.0\"/><line x1=\"166.66666666666669\" y1=\"133.33333333333334\" x2=\"200.0\" y2=\"133.33333333333334\"/><line x1=\"200.0\" y1=\"100.0\" x2=\"200.0\" y2=\"133.33333333333334\"/><line x1=\"200.0\" y1=\"133.33333333333334\" x2=\"200.0\" y2=\"166.66666666666669\"/><line x1=\"166.66666666666669\" y1=\"200.0\" x2=\"200.0\" y2=\"200.0\"/><line x1=\"200.0\" y1=\"166.66666666666669\" x2=\"200.0\" y2=\"200.0\"/><rect x=\"8.333333333333334\" y=\"8.333333333333334\" width=\"16.666666666666668\" height=\"16.666666666666668\" style=\"fill:rgb(0,255,0)\"/><rect x=\"8.333333333333334\" y=\"41.66666666666667\" width=\"16.666666666666668\" height=\"16.666666666666668\" style=\"fill:rgb(255,255,0)\"/><rect x=\"8.333333333333334\" y=\"75.0\" width=\"16.666666666666668\" height=\"16.666666666666668\" style=\"fill:rgb(255,255,0)\"/><rect x=\"8.333333333333334\" y=\"108.33333333333333\" width=\"16.666666666666668\" height=\"16.666666666666668\" style=\"fill:rgb(255,255,0)\"/><rect x=\"8.333333333333334\" y=\"141.66666666666669\" width=\"16.666666666666668\" height=\"16.666666666666668\" style=\"fill:rgb(255,255,0)\"/><rect x=\"8.333333333333334\" y=\"175.00000000000003\" width=\"16.666666666666668\" height=\"16.666666666666668\" style=\"fill:rgb(255,255,0)\"/><rect x=\"41.66666666666667\" y=\"8.333333333333334\" width=\"16.666666666666668\" height=\"16.666666666666668\" style=\"fill:rgb(255,0,0)\"/><rect x=\"41.66666666666667\" y=\"41.66666666666667\" width=\"16.666666666666668\" height=\"16.666666666666668\" style=\"fill:rgb(255,255,0)\"/><rect x=\"41.66666666666667\" y=\"75.0\" width=\"16.666666666666668\" height=\"16.666666666666668\" style=\"fill:rgb(255,255,0)\"/><rect x=\"41.66666666666667\" y=\"108.33333333333333\" width=\"16.666666666666668\" height=\"16.666666666666668\" style=\"fill:rgb(255,255,0)\"/><rect x=\"41.66666666666667\" y=\"141.66666666666669\" width=\"16.666666666666668\" height=\"16.666666666666668\" style=\"fill:rgb(255,255,0)\"/><rect x=\"41.66666666666667\" y=\"175.00000000000003\" width=\"16.666666666666668\" height=\"16.666666666666668\" style=\"fill:rgb(255,255,0)\"/><rect x=\"75.0\" y=\"8.333333333333334\" width=\"16.666666666666668\" height=\"16.666666666666668\" style=\"fill:rgb(255,255,0)\"/><rect x=\"75.0\" y=\"41.66666666666667\" width=\"16.666666666666668\" height=\"16.666666666666668\" style=\"fill:rgb(255,255,0)\"/><rect x=\"75.0\" y=\"75.0\" width=\"16.666666666666668\" height=\"16.666666666666668\" style=\"fill:rgb(255,255,0)\"/><rect x=\"75.0\" y=\"108.33333333333333\" width=\"16.666666666666668\" height=\"16.666666666666668\" style=\"fill:rgb(255,255,0)\"/><rect x=\"75.0\" y=\"141.66666666666669\" width=\"16.666666666666668\" height=\"16.666666666666668\" style=\"fill:rgb(255,255,0)\"/><rect x=\"75.0\" y=\"175.00000000000003\" width=\"16.666666666666668\" height=\"16.666666666666668\" style=\"fill:rgb(255,255,0)\"/><rect x=\"108.33333333333333\" y=\"8.333333333333334\" width=\"16.666666666666668\" height=\"16.666666666666668\" style=\"fill:rgb(255,255,0)\"/><rect x=\"108.33333333333333\" y=\"41.66666666666667\" width=\"16.666666666666668\" height=\"16.666666666666668\" style=\"fill:rgb(255,255,0)\"/><rect x=\"108.33333333333333\" y=\"75.0\" width=\"16.666666666666668\" height=\"16.666666666666668\" style=\"fill:rgb(255,255,0)\"/><rect x=\"108.33333333333333\" y=\"108.33333333333333\" width=\"16.666666666666668\" height=\"16.666666666666668\" style=\"fill:rgb(255,255,0)\"/><rect x=\"108.33333333333333\" y=\"141.66666666666669\" width=\"16.666666666666668\" height=\"16.666666666666668\" style=\"fill:rgb(255,255,0)\"/><rect x=\"108.33333333333333\" y=\"175.00000000000003\" width=\"16.666666666666668\" height=\"16.666666666666668\" style=\"fill:rgb(255,255,0)\"/><rect x=\"141.66666666666669\" y=\"8.333333333333334\" width=\"16.666666666666668\" height=\"16.666666666666668\" style=\"fill:rgb(255,255,0)\"/><rect x=\"141.66666666666669\" y=\"41.66666666666667\" width=\"16.666666666666668\" height=\"16.666666666666668\" style=\"fill:rgb(255,255,0)\"/><rect x=\"141.66666666666669\" y=\"75.0\" width=\"16.666666666666668\" height=\"16.666666666666668\" style=\"fill:rgb(255,0,0)\"/><rect x=\"141.66666666666669\" y=\"175.00000000000003\" width=\"16.666666666666668\" height=\"16.666666666666668\" style=\"fill:rgb(255,255,0)\"/><rect x=\"175.00000000000003\" y=\"8.333333333333334\" width=\"16.666666666666668\" height=\"16.666666666666668\" style=\"fill:rgb(255,255,0)\"/><rect x=\"175.00000000000003\" y=\"41.66666666666667\" width=\"16.666666666666668\" height=\"16.666666666666668\" style=\"fill:rgb(255,255,0)\"/><rect x=\"175.00000000000003\" y=\"75.0\" width=\"16.666666666666668\" height=\"16.666666666666668\" style=\"fill:rgb(255,255,0)\"/><rect x=\"175.00000000000003\" y=\"108.33333333333333\" width=\"16.666666666666668\" height=\"16.666666666666668\" style=\"fill:rgb(255,255,0)\"/><rect x=\"175.00000000000003\" y=\"175.00000000000003\" width=\"16.666666666666668\" height=\"16.666666666666668\" style=\"fill:rgb(255,255,0)\"/><line x1=\"0\" y1=\"0\" x2=\"200\" y2=\"0\"/><line x1=\"0\" y1=\"0\" x2=\"0\" y2=\"200\"/></svg>"
      ],
      "text/plain": [
       "<IPython.core.display.SVG object>"
      ]
     },
     "metadata": {},
     "output_type": "display_data"
    }
   ],
   "source": [
    "maze, stations = create_maze(6, 6, 2) # Creem un maze 6x6 amb 2 benzineres aleatories\n",
    "\n",
    "diposit = 10   # Dipòsit de 10 litres\n",
    "inici = 0      # Inici es el primer node (top-left)\n",
    "final = 6*6-1  # Destí es l'últim node (bottom-right)\n",
    "\n",
    "# la vostra funció\n",
    "val, visited = solve_maze_gas(maze.maze_graph(), stations, diposit, inici, final)\n",
    "\n",
    "if val: print(\"Té solució.\")\n",
    "else: print(\"No té solució\")\n",
    "\n",
    "if 0 in visited:\n",
    "    visited.remove(0)\n",
    "\n",
    "for s in stations:\n",
    "    if s in visited:\n",
    "        visited.remove(s)\n",
    "maze.set_values(visited, 1, (255,255,0))\n",
    "maze.display_maze(plot_path=True, height=200)"
   ]
  },
  {
   "cell_type": "markdown",
   "metadata": {},
   "source": [
    "<div class=\"alert alert-warning\">\n",
    "<h1>Entrega de la Prova</h1>\n",
    "</div>"
   ]
  },
  {
   "cell_type": "markdown",
   "metadata": {},
   "source": [
    "A continuació trobareu un codi que fa d'envolcall (<i>wrapper</i>) de la vostra funció i que permetrà utilitzar l'ub_grader."
   ]
  },
  {
   "cell_type": "code",
   "execution_count": 156,
   "metadata": {},
   "outputs": [],
   "source": [
    "def wrapper_gas_problem(n, m, seed, B, D, p_build):\n",
    "    maze = Maze(n, m, seed=seed, p_build=p_build)\n",
    "    val, _ = solve_maze_gas(maze.maze_graph(), B, D, 0, n*m - 1)\n",
    "    return val"
   ]
  },
  {
   "cell_type": "markdown",
   "metadata": {},
   "source": [
    "<div class=\"alert alert-info\">\n",
    "L'entrega de la prova de pràctica es farà amb el mòdul de <b>ub-grader</b>. Per instal·lar-lo feu servir la següent comanda a terminal:\n",
    "\n",
    "```\n",
    "python pip install ub-grader --upgrade\n",
    "```\n",
    "\n",
    "O una cel·la del notebook amb:\n",
    "\n",
    "```\n",
    "!pip install ub-grader --upgrade\n",
    "```\n",
    "<br>\n",
    "\n",
    "Després, a la cel·la següent canvieu els niubs i noms pels vostres. Executeu-la per generar el vostre report del problema. Finalment, el report es generarà al directori d'aquest notebook amb nom ```report_Membre1_Membre2_ex3.enc```, pugeu aquest fitxer al campus virtual una vegada acabada la prova.\n",
    "\n",
    "És imprescindible que respecteu el format de les funcions i que el vostre codi estigui degudament comentat.<br><br>\n",
    "\n",
    "</div>"
   ]
  },
  {
   "cell_type": "code",
   "execution_count": 157,
   "metadata": {},
   "outputs": [
    {
     "name": "stdout",
     "output_type": "stream",
     "text": [
      "Grade: 10.0 / 10.0\n"
     ]
    }
   ],
   "source": [
    "from ub_grader import init_students, load_spec, grade\n",
    "\n",
    "init_students([\n",
    "    {\"niub\": \"20922145\", \"nombre\": \"Biel\", \"apellidos\": \"Palomar Gonzalez\"}, # Canvieu aquests noms i niubs\n",
    "    {\"niub\": \"20127225\", \"nombre\": \"Oriol\", \"apellidos\": \"Jiménez Blanco\"}\n",
    "])\n",
    "\n",
    "\n",
    "load_spec(r\"file:///./specs/benzineres_mati.json\")\n",
    "\n",
    "result = grade(\n",
    "    wrapper_gas_problem,\n",
    "    signing_key_path=None\n",
    ")"
   ]
  },
  {
   "cell_type": "code",
   "execution_count": null,
   "metadata": {},
   "outputs": [],
   "source": []
  }
 ],
 "metadata": {
  "kernelspec": {
   "display_name": "Python 3",
   "language": "python",
   "name": "python3"
  },
  "language_info": {
   "codemirror_mode": {
    "name": "ipython",
    "version": 3
   },
   "file_extension": ".py",
   "mimetype": "text/x-python",
   "name": "python",
   "nbconvert_exporter": "python",
   "pygments_lexer": "ipython3",
   "version": "3.11.9"
  }
 },
 "nbformat": 4,
 "nbformat_minor": 4
}
